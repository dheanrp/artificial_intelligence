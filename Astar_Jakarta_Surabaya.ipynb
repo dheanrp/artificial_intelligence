{
  "nbformat": 4,
  "nbformat_minor": 0,
  "metadata": {
    "colab": {
      "name": "Astar_Jakarta-Surabaya.ipynb",
      "provenance": [],
      "collapsed_sections": []
    },
    "kernelspec": {
      "name": "python3",
      "display_name": "Python 3"
    },
    "language_info": {
      "name": "python"
    }
  },
  "cells": [
    {
      "cell_type": "code",
      "metadata": {
        "id": "AM9GKCOCbLEG"
      },
      "source": [
        "class Vertex:\n",
        "    def __init__(self, node, heu):\n",
        "        self.id = node\n",
        "        self.heuristic = heu\n",
        "        self.adjacent = {}\n",
        "\n",
        "    def __str__(self):\n",
        "        return str(self.id)\n",
        "\n",
        "    def add_neighbor(self, neighbor, weight=0):\n",
        "        self.adjacent[neighbor] = weight\n",
        "\n",
        "    def get_connections(self):\n",
        "        return self.adjacent.keys()\n",
        "\n",
        "    def get_id(self):\n",
        "        return self.id\n",
        "\n",
        "    def get_weight(self, neighbor):\n",
        "        return self.adjacent[neighbor]"
      ],
      "execution_count": null,
      "outputs": []
    },
    {
      "cell_type": "code",
      "metadata": {
        "id": "UyR6ZBJqNnkF"
      },
      "source": [
        "class Graph:\n",
        "    def __init__(self):\n",
        "        self.vert_dict = {}\n",
        "        self.num_vertices = 0\n",
        "\n",
        "    def __iter__(self):\n",
        "        return iter(self.vert_dict.values())\n",
        "\n",
        "    def add_vertex(self, node, heu):\n",
        "        self.num_vertices = self.num_vertices + 1\n",
        "        new_vertex = Vertex(node, heu)\n",
        "        self.vert_dict[node] = new_vertex\n",
        "        return new_vertex\n",
        "\n",
        "    def get_vertex(self, n):\n",
        "        if n in self.vert_dict:\n",
        "            return self.vert_dict[n]\n",
        "        else:\n",
        "            return None\n",
        "\n",
        "    def add_edge(self, frm, to, cost = 0):\n",
        "        if frm not in self.vert_dict:\n",
        "            self.add_vertex(frm)\n",
        "        if to not in self.vert_dict:\n",
        "            self.add_vertex(to)\n",
        "\n",
        "        self.vert_dict[frm].add_neighbor(self.vert_dict[to], cost)\n",
        "        self.vert_dict[to].add_neighbor(self.vert_dict[frm], cost)\n",
        "\n",
        "    def get_vertices(self):\n",
        "        return self.vert_dict.keys()\n",
        "    \n",
        "    def empty(self):\n",
        "      return not self.num_vertices"
      ],
      "execution_count": null,
      "outputs": []
    },
    {
      "cell_type": "markdown",
      "metadata": {
        "id": "N2lU422VeFQ0"
      },
      "source": [
        "source: https://www.bogotobogo.com/python/python_graph_data_structures.php"
      ]
    },
    {
      "cell_type": "code",
      "metadata": {
        "id": "v_nRfJOYN54g"
      },
      "source": [
        "import pandas as pd\n",
        "import numpy as np\n",
        "import time"
      ],
      "execution_count": null,
      "outputs": []
    },
    {
      "cell_type": "code",
      "metadata": {
        "id": "xB-AX0MEP-nK"
      },
      "source": [
        "am = pd.read_excel('/content/drive/MyDrive/Dataset/matriks_ketetanggaan.xlsx')\n",
        "h = pd.read_excel('/content/drive/MyDrive/Dataset/heuristik.xlsx')"
      ],
      "execution_count": null,
      "outputs": []
    },
    {
      "cell_type": "code",
      "metadata": {
        "id": "i3ZqI8AlSYjk"
      },
      "source": [
        "jawa = Graph()"
      ],
      "execution_count": null,
      "outputs": []
    },
    {
      "cell_type": "code",
      "metadata": {
        "id": "9PkJ9aZYlStz"
      },
      "source": [
        "for i, kota_1 in enumerate(am['Unnamed: 0']):\n",
        "  jawa.add_vertex(kota_1, h['heuristik'][i])"
      ],
      "execution_count": null,
      "outputs": []
    },
    {
      "cell_type": "code",
      "metadata": {
        "id": "TxRWnTTNQEpI"
      },
      "source": [
        "for i, kota_1 in enumerate(am['Unnamed: 0']):\n",
        "  for j, kota_2 in enumerate(am['Unnamed: 0']):\n",
        "    if am[kota_1][j] != 0:\n",
        "      jawa.add_edge(kota_1,kota_2,am[kota_1][j])"
      ],
      "execution_count": null,
      "outputs": []
    },
    {
      "cell_type": "code",
      "metadata": {
        "id": "ljhXQP2GoBoE",
        "colab": {
          "base_uri": "https://localhost:8080/"
        },
        "outputId": "26846d2b-a331-4a12-8e25-0bf3040ae3cb"
      },
      "source": [
        "rute = {}\n",
        "cost = {}\n",
        "temp_costs = {}\n",
        "start = 'Jakarta'\n",
        "cost[start] = 0\n",
        "explored = []\n",
        "\n",
        "while not jawa.get_vertex(start).heuristic == 0:\n",
        "  since = time.time()\n",
        "  kota_1 = jawa.get_vertex(start)\n",
        "  for kota_2 in kota_1.get_connections():\n",
        "    temp_cost = cost[kota_1.id] + kota_1.get_weight(kota_2) + kota_1.heuristic\n",
        "    temp_costs[kota_2.id] = temp_cost\n",
        "\n",
        "  l = len(temp_costs)  \n",
        "  \n",
        "  while len(temp_costs) == l:\n",
        "    temp_next, cmin = min(temp_costs.items())\n",
        "    if temp_next not in explored:\n",
        "      cost[temp_next] = cmin\n",
        "      temp_costs.pop(temp_next)\n",
        "      start = temp_next\n",
        "      explored.append(start)\n",
        "      rute[kota_1.id] = temp_next\n",
        "    else:\n",
        "      temp_costs.pop(temp_next)\n",
        "      l = l -1\n",
        "\n",
        "time_elapsed = time.time() - since\n",
        "\n",
        "print('Time spent {:.9f}'.format(time_elapsed))"
      ],
      "execution_count": null,
      "outputs": [
        {
          "output_type": "stream",
          "text": [
            "Time spent 0.000044107\n"
          ],
          "name": "stdout"
        }
      ]
    }
  ]
}