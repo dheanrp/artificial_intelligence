{
  "nbformat": 4,
  "nbformat_minor": 0,
  "metadata": {
    "colab": {
      "name": "UCS_Jakarta-surabaya.ipynb",
      "provenance": [],
      "collapsed_sections": []
    },
    "kernelspec": {
      "name": "python3",
      "display_name": "Python 3"
    },
    "language_info": {
      "name": "python"
    }
  },
  "cells": [
    {
      "cell_type": "code",
      "metadata": {
        "id": "AM9GKCOCbLEG"
      },
      "source": [
        "class Vertex:\n",
        "    def __init__(self, node):\n",
        "        self.id = node\n",
        "        self.adjacent = {}\n",
        "\n",
        "    def __str__(self):\n",
        "        return str(self.id)\n",
        "\n",
        "    def add_neighbor(self, neighbor, weight=0):\n",
        "        self.adjacent[neighbor] = weight\n",
        "\n",
        "    def get_connections(self):\n",
        "        return self.adjacent.keys()\n",
        "\n",
        "    def get_id(self):\n",
        "        return self.id\n",
        "\n",
        "    def get_weight(self, neighbor):\n",
        "        return self.adjacent[neighbor]"
      ],
      "execution_count": 1,
      "outputs": []
    },
    {
      "cell_type": "code",
      "metadata": {
        "id": "UyR6ZBJqNnkF"
      },
      "source": [
        "class Graph:\n",
        "    def __init__(self):\n",
        "        self.vert_dict = {}\n",
        "        self.num_vertices = 0\n",
        "\n",
        "    def __iter__(self):\n",
        "        return iter(self.vert_dict.values())\n",
        "\n",
        "    def add_vertex(self, node):\n",
        "        self.num_vertices = self.num_vertices + 1\n",
        "        new_vertex = Vertex(node)\n",
        "        self.vert_dict[node] = new_vertex\n",
        "        return new_vertex\n",
        "\n",
        "    def get_vertex(self, n):\n",
        "        if n in self.vert_dict:\n",
        "            return self.vert_dict[n]\n",
        "        else:\n",
        "            return None\n",
        "\n",
        "    def add_edge(self, frm, to, cost = 0):\n",
        "        if frm not in self.vert_dict:\n",
        "            self.add_vertex(frm)\n",
        "        if to not in self.vert_dict:\n",
        "            self.add_vertex(to)\n",
        "\n",
        "        self.vert_dict[frm].add_neighbor(self.vert_dict[to], cost)\n",
        "        self.vert_dict[to].add_neighbor(self.vert_dict[frm], cost)\n",
        "\n",
        "    def get_vertices(self):\n",
        "        return self.vert_dict.keys()\n",
        "    \n",
        "    def empty(self):\n",
        "      return not self.num_vertices"
      ],
      "execution_count": 2,
      "outputs": []
    },
    {
      "cell_type": "markdown",
      "metadata": {
        "id": "N2lU422VeFQ0"
      },
      "source": [
        "source: https://www.bogotobogo.com/python/python_graph_data_structures.php"
      ]
    },
    {
      "cell_type": "code",
      "metadata": {
        "id": "v_nRfJOYN54g"
      },
      "source": [
        "import pandas as pd\n",
        "import numpy as np\n",
        "import time"
      ],
      "execution_count": 3,
      "outputs": []
    },
    {
      "cell_type": "code",
      "metadata": {
        "id": "xB-AX0MEP-nK"
      },
      "source": [
        "am = pd.read_excel('/content/drive/MyDrive/Dataset/matriks_ketetanggaan.xlsx')"
      ],
      "execution_count": 4,
      "outputs": []
    },
    {
      "cell_type": "code",
      "metadata": {
        "id": "i3ZqI8AlSYjk"
      },
      "source": [
        "jawa = Graph()"
      ],
      "execution_count": 5,
      "outputs": []
    },
    {
      "cell_type": "code",
      "metadata": {
        "id": "TxRWnTTNQEpI"
      },
      "source": [
        "for i, kota_1 in enumerate(am['Unnamed: 0']):\n",
        "  for j, kota_2 in enumerate(am['Unnamed: 0']):\n",
        "    if am[kota_1][j] != 0:\n",
        "      jawa.add_edge(kota_1,kota_2,am[kota_1][j])"
      ],
      "execution_count": 6,
      "outputs": []
    },
    {
      "cell_type": "code",
      "metadata": {
        "colab": {
          "base_uri": "https://localhost:8080/"
        },
        "id": "ljhXQP2GoBoE",
        "outputId": "1f468d78-a587-4875-924b-d2f65b6a30e2"
      },
      "source": [
        "start = 'Jakarta'\n",
        "end = 'Surabaya'\n",
        "explored = []\n",
        "new_cost = 0\n",
        "\n",
        "while not jawa.get_vertex(start).id == end:\n",
        "  since = time.time()\n",
        "  kota_1 = jawa.get_vertex(start)\n",
        "  explored.append(kota_1.id)\n",
        "  for kota_2 in kota_1.get_connections():\n",
        "    if kota_2 not in explored:\n",
        "      new_cost += kota_1.get_weight(kota_2)\n",
        "      start = kota_2.id\n",
        "  time_elapsed = time.time() - since\n",
        "\n",
        "print('Time spent {:.9f}'.format(time_elapsed))"
      ],
      "execution_count": 8,
      "outputs": [
        {
          "output_type": "stream",
          "text": [
            "Time spent 0.000002861\n"
          ],
          "name": "stdout"
        }
      ]
    },
    {
      "cell_type": "code",
      "metadata": {
        "colab": {
          "base_uri": "https://localhost:8080/"
        },
        "id": "VjaOia733j8k",
        "outputId": "e6be56e6-be6a-44c7-a3c6-fb0eaf02706b"
      },
      "source": [
        "print(explored)"
      ],
      "execution_count": 10,
      "outputs": [
        {
          "output_type": "stream",
          "text": [
            "['Jakarta', 'Depok', 'Bogor', 'Bandung', 'Cirebon', 'Tegal', 'Pemalang', 'Semarang', 'Kudus', 'Rembang', 'Tuban', 'Lamongan', 'Gresik']\n"
          ],
          "name": "stdout"
        }
      ]
    }
  ]
}