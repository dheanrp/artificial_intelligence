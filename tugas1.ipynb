{
  "nbformat": 4,
  "nbformat_minor": 0,
  "metadata": {
    "colab": {
      "name": "tugas1_0102516034.ipynb",
      "provenance": [],
      "collapsed_sections": []
    },
    "kernelspec": {
      "display_name": "Python 3",
      "language": "python",
      "name": "python3"
    },
    "language_info": {
      "codemirror_mode": {
        "name": "ipython",
        "version": 3
      },
      "file_extension": ".py",
      "mimetype": "text/x-python",
      "name": "python",
      "nbconvert_exporter": "python",
      "pygments_lexer": "ipython3",
      "version": "3.7.3"
    }
  },
  "cells": [
    {
      "cell_type": "markdown",
      "metadata": {
        "id": "iNSALbhDpb3y"
      },
      "source": [
        "# Kecerdasan Buatan\n",
        "\n",
        "## Tugas 1: Model Linear\n",
        "\n",
        "### Mekanisme\n",
        "\n",
        "Anda hanya diwajibkan untuk mengumpulkan file ini saja ke uploader yang disediakan di http://elearning2.uai.ac.id/. Ganti nama file ini saat pengumpulan menjadi tugas1_NIM.ipynb.\n",
        "\n",
        "**Keterlambatan**: Pengumpulan tugas yang melebihi tenggat yang telah ditentukan tidak akan diterima. Keterlambatan akan berakibat pada nilai nol untuk tugas ini.\n",
        "\n",
        "**Kolaborasi**: Anda diperbolehkan untuk berdiskusi dengan teman Anda, tetapi dilarang keras menyalin kode maupun tulisan dari teman Anda.\n",
        "\n",
        "### Petunjuk\n",
        "\n",
        "_Packages_ yang Anda akan gunakan dalam mengerjakan tugas ini antara lain:\n",
        "\n",
        "- keras\n",
        "- matplotlib\n",
        "- numpy\n",
        "- pandas\n",
        "- pillow\n",
        "- scipy\n",
        "- seaborn\n",
        "\n",
        "Anda diperbolehkan (jika dirasa perlu) untuk mengimpor modul tambahan untuk tugas ini. Namun, seharusnya modul yang tersedia sudah cukup untuk memenuhi kebutuhan Anda. Untuk kode yang Anda ambil dari sumber lain, **cantumkan URL menuju referensi tersebut jika diambil dari internet**!\n",
        "\n",
        "Perhatikan poin untuk tiap soal! **Semakin kecil poinnya, berarti kode yang diperlukan untuk menjawab soal tersebut seharusnya semakin sedikit!**"
      ]
    },
    {
      "cell_type": "markdown",
      "metadata": {
        "id": "h6L4Xnz8pb33"
      },
      "source": [
        "**Nilai akhir: XX/40**"
      ]
    },
    {
      "cell_type": "markdown",
      "metadata": {
        "id": "Nj1ftdv0pb37"
      },
      "source": [
        "### Deskripsi Dataset\n",
        "\n",
        "Pada tugas kali ini, Anda akan mencoba menggunakan metode *machine learning* untuk melakukan dua jenis prediksi: **regresi** dan **klasifikasi**.\n",
        "\n",
        "**Untuk kasus regresi**, Anda diminta untuk memprediksi jumlah penjualan berdasarkan uang yang dihabiskan pada media iklan yang digunakan. Terdapat tiga media iklan, yaitu TV, Radio dan Newspaper. Dengan detail atribut sebagai berikut:\n",
        "\n",
        "- TV: biaya yang dihabiskan untuk iklan tayangan TV untuk setiap satu produk dalam sebuah pasar (dalam ribuan dollar)\n",
        "- Radio: biaya yang dihabiskan untuk iklan di radio (dalam ribuan dollar)\n",
        "- Newspaper: biaya yang dihabiskan untuk iklan di koran (dalam ribuan dollar)\n",
        "- Sales: penjualan dari setiap satuan produk pada suatu pasar (dalam ribuan widget)\n",
        "\n",
        "**Untuk kasus klasifikasi**, Anda akan menggunakan dataset Food-101 yang memiliki 101 kategori makanan dengan total 101.000 gambar makanan. Dataset untuk tugas ini diambil dari Food-101 (https://www.vision.ee.ethz.ch/datasets_extra/food-101/). Untuk versi yang lebih sederhana, Anda hanya akan membandingkan apakah gambar yang diberikan berupa *sushi* atau *pizza*. Anda akan melakukan klasifikasi menggunakan algoritma regresi logistik dan neural networks dalam tugas ini."
      ]
    },
    {
      "cell_type": "markdown",
      "metadata": {
        "id": "wBrMWdZSpb3-"
      },
      "source": [
        "### Mengimpor Modul dan Dataset"
      ]
    },
    {
      "cell_type": "code",
      "metadata": {
        "id": "yh7tTHzLpb4A"
      },
      "source": [
        "from __future__ import print_function, division # Gunakan print(...) dan bukan print ...\n",
        "import matplotlib.pyplot as plt\n",
        "import numpy as np\n",
        "import pandas as pd\n",
        "import seaborn as sns\n",
        "import random\n",
        "import requests\n",
        "\n",
        "from sklearn.linear_model import LinearRegression, LogisticRegression\n",
        "from sklearn.metrics import accuracy_score, confusion_matrix, mean_squared_error, r2_score\n",
        "from sklearn.model_selection import train_test_split\n",
        "from sklearn.preprocessing import LabelEncoder\n",
        "\n",
        "%matplotlib inline\n",
        "\n",
        "RANDOM_STATE = 1337\n",
        "np.random.seed(RANDOM_STATE)"
      ],
      "execution_count": 1,
      "outputs": []
    },
    {
      "cell_type": "markdown",
      "metadata": {
        "id": "1u7nA_3Bpb4K"
      },
      "source": [
        "## 1. Eksplorasi Awal Data - Advertising (6 poin)"
      ]
    },
    {
      "cell_type": "code",
      "metadata": {
        "colab": {
          "base_uri": "https://localhost:8080/",
          "height": 197
        },
        "id": "A7L4yn7Lpb4N",
        "outputId": "f1da3bea-32e1-48b9-a1a8-bbed846b4aa7"
      },
      "source": [
        "df = pd.read_csv('https://github.com/aliakbars/uai-ai/raw/master/datasets/advertising.csv', index_col=0)\n",
        "df.head()"
      ],
      "execution_count": 2,
      "outputs": [
        {
          "output_type": "execute_result",
          "data": {
            "text/html": [
              "<div>\n",
              "<style scoped>\n",
              "    .dataframe tbody tr th:only-of-type {\n",
              "        vertical-align: middle;\n",
              "    }\n",
              "\n",
              "    .dataframe tbody tr th {\n",
              "        vertical-align: top;\n",
              "    }\n",
              "\n",
              "    .dataframe thead th {\n",
              "        text-align: right;\n",
              "    }\n",
              "</style>\n",
              "<table border=\"1\" class=\"dataframe\">\n",
              "  <thead>\n",
              "    <tr style=\"text-align: right;\">\n",
              "      <th></th>\n",
              "      <th>TV</th>\n",
              "      <th>radio</th>\n",
              "      <th>newspaper</th>\n",
              "      <th>sales</th>\n",
              "    </tr>\n",
              "  </thead>\n",
              "  <tbody>\n",
              "    <tr>\n",
              "      <th>1</th>\n",
              "      <td>230.1</td>\n",
              "      <td>37.8</td>\n",
              "      <td>69.2</td>\n",
              "      <td>22.1</td>\n",
              "    </tr>\n",
              "    <tr>\n",
              "      <th>2</th>\n",
              "      <td>44.5</td>\n",
              "      <td>39.3</td>\n",
              "      <td>45.1</td>\n",
              "      <td>10.4</td>\n",
              "    </tr>\n",
              "    <tr>\n",
              "      <th>3</th>\n",
              "      <td>17.2</td>\n",
              "      <td>45.9</td>\n",
              "      <td>69.3</td>\n",
              "      <td>9.3</td>\n",
              "    </tr>\n",
              "    <tr>\n",
              "      <th>4</th>\n",
              "      <td>151.5</td>\n",
              "      <td>41.3</td>\n",
              "      <td>58.5</td>\n",
              "      <td>18.5</td>\n",
              "    </tr>\n",
              "    <tr>\n",
              "      <th>5</th>\n",
              "      <td>180.8</td>\n",
              "      <td>10.8</td>\n",
              "      <td>58.4</td>\n",
              "      <td>12.9</td>\n",
              "    </tr>\n",
              "  </tbody>\n",
              "</table>\n",
              "</div>"
            ],
            "text/plain": [
              "      TV  radio  newspaper  sales\n",
              "1  230.1   37.8       69.2   22.1\n",
              "2   44.5   39.3       45.1   10.4\n",
              "3   17.2   45.9       69.3    9.3\n",
              "4  151.5   41.3       58.5   18.5\n",
              "5  180.8   10.8       58.4   12.9"
            ]
          },
          "metadata": {
            "tags": []
          },
          "execution_count": 2
        }
      ]
    },
    {
      "cell_type": "markdown",
      "metadata": {
        "id": "gAY2JgHppb4W"
      },
      "source": [
        "### Soal 1.1.a (1 poin)\n",
        "\n",
        "Laporkan deskripsi dari Advertising dataset dengan menggunakan metode dari Pandas!"
      ]
    },
    {
      "cell_type": "code",
      "metadata": {
        "colab": {
          "base_uri": "https://localhost:8080/",
          "height": 287
        },
        "id": "9lkOT2NCpb4Y",
        "outputId": "f6aa63b5-8430-43cb-8eb1-b3f635144d91"
      },
      "source": [
        "df.describe()"
      ],
      "execution_count": 3,
      "outputs": [
        {
          "output_type": "execute_result",
          "data": {
            "text/html": [
              "<div>\n",
              "<style scoped>\n",
              "    .dataframe tbody tr th:only-of-type {\n",
              "        vertical-align: middle;\n",
              "    }\n",
              "\n",
              "    .dataframe tbody tr th {\n",
              "        vertical-align: top;\n",
              "    }\n",
              "\n",
              "    .dataframe thead th {\n",
              "        text-align: right;\n",
              "    }\n",
              "</style>\n",
              "<table border=\"1\" class=\"dataframe\">\n",
              "  <thead>\n",
              "    <tr style=\"text-align: right;\">\n",
              "      <th></th>\n",
              "      <th>TV</th>\n",
              "      <th>radio</th>\n",
              "      <th>newspaper</th>\n",
              "      <th>sales</th>\n",
              "    </tr>\n",
              "  </thead>\n",
              "  <tbody>\n",
              "    <tr>\n",
              "      <th>count</th>\n",
              "      <td>200.000000</td>\n",
              "      <td>200.000000</td>\n",
              "      <td>200.000000</td>\n",
              "      <td>200.000000</td>\n",
              "    </tr>\n",
              "    <tr>\n",
              "      <th>mean</th>\n",
              "      <td>147.042500</td>\n",
              "      <td>23.264000</td>\n",
              "      <td>30.554000</td>\n",
              "      <td>14.022500</td>\n",
              "    </tr>\n",
              "    <tr>\n",
              "      <th>std</th>\n",
              "      <td>85.854236</td>\n",
              "      <td>14.846809</td>\n",
              "      <td>21.778621</td>\n",
              "      <td>5.217457</td>\n",
              "    </tr>\n",
              "    <tr>\n",
              "      <th>min</th>\n",
              "      <td>0.700000</td>\n",
              "      <td>0.000000</td>\n",
              "      <td>0.300000</td>\n",
              "      <td>1.600000</td>\n",
              "    </tr>\n",
              "    <tr>\n",
              "      <th>25%</th>\n",
              "      <td>74.375000</td>\n",
              "      <td>9.975000</td>\n",
              "      <td>12.750000</td>\n",
              "      <td>10.375000</td>\n",
              "    </tr>\n",
              "    <tr>\n",
              "      <th>50%</th>\n",
              "      <td>149.750000</td>\n",
              "      <td>22.900000</td>\n",
              "      <td>25.750000</td>\n",
              "      <td>12.900000</td>\n",
              "    </tr>\n",
              "    <tr>\n",
              "      <th>75%</th>\n",
              "      <td>218.825000</td>\n",
              "      <td>36.525000</td>\n",
              "      <td>45.100000</td>\n",
              "      <td>17.400000</td>\n",
              "    </tr>\n",
              "    <tr>\n",
              "      <th>max</th>\n",
              "      <td>296.400000</td>\n",
              "      <td>49.600000</td>\n",
              "      <td>114.000000</td>\n",
              "      <td>27.000000</td>\n",
              "    </tr>\n",
              "  </tbody>\n",
              "</table>\n",
              "</div>"
            ],
            "text/plain": [
              "               TV       radio   newspaper       sales\n",
              "count  200.000000  200.000000  200.000000  200.000000\n",
              "mean   147.042500   23.264000   30.554000   14.022500\n",
              "std     85.854236   14.846809   21.778621    5.217457\n",
              "min      0.700000    0.000000    0.300000    1.600000\n",
              "25%     74.375000    9.975000   12.750000   10.375000\n",
              "50%    149.750000   22.900000   25.750000   12.900000\n",
              "75%    218.825000   36.525000   45.100000   17.400000\n",
              "max    296.400000   49.600000  114.000000   27.000000"
            ]
          },
          "metadata": {
            "tags": []
          },
          "execution_count": 3
        }
      ]
    },
    {
      "cell_type": "markdown",
      "metadata": {
        "id": "MxN1o0Fypb4f"
      },
      "source": [
        "### Soal 1.1.b (2 poin)\n",
        "\n",
        "Berapa nilai `sales` paling rendah dan nilai `sales` paling tinggi dari data yang Anda miliki? Berapa ribu dollar uang yang dihabiskan untuk membayar biaya iklan di `TV`, `radio`, dan `newspaper` untuk produk tersebut?\n"
      ]
    },
    {
      "cell_type": "code",
      "metadata": {
        "colab": {
          "base_uri": "https://localhost:8080/"
        },
        "id": "5eW6NB0tpb4h",
        "outputId": "12470d5d-d7a8-4099-9baf-ec96a43b1095"
      },
      "source": [
        "print('Sales Minimum: ', df['sales'].min())\n",
        "print('Sales Maximum: ', df['sales'].max())"
      ],
      "execution_count": 4,
      "outputs": [
        {
          "output_type": "stream",
          "text": [
            "Sales Minimum:  1.6\n",
            "Sales Maximum:  27.0\n"
          ],
          "name": "stdout"
        }
      ]
    },
    {
      "cell_type": "code",
      "metadata": {
        "id": "ps4Y7cD7BVVu",
        "colab": {
          "base_uri": "https://localhost:8080/"
        },
        "outputId": "3aa412f0-a641-425d-f984-8c50cfc32ff7"
      },
      "source": [
        "print('Cost Ads on TV: ',  df['TV'].sum())\n",
        "print('Cost Ads on Radio: ',  df['radio'].sum())\n",
        "print('Cost Ads on Newspaper: ',  df['newspaper'].sum())"
      ],
      "execution_count": 5,
      "outputs": [
        {
          "output_type": "stream",
          "text": [
            "Cost Ads on TV:  29408.5\n",
            "Cost Ads on Radio:  4652.800000000001\n",
            "Cost Ads on Newspaper:  6110.799999999999\n"
          ],
          "name": "stdout"
        }
      ]
    },
    {
      "cell_type": "markdown",
      "metadata": {
        "id": "bdQYWXuEpb4o"
      },
      "source": [
        "### Soal 1.2 (3 poin)\n",
        "\n",
        "Gambarkan scatter plot dari `sales` terhadap media iklan `TV`, `radio`, dan `newspaper`."
      ]
    },
    {
      "cell_type": "code",
      "metadata": {
        "colab": {
          "base_uri": "https://localhost:8080/",
          "height": 428
        },
        "id": "C9A-H-dMpb4q",
        "outputId": "542f483e-371a-47bb-dbaa-807866d397da"
      },
      "source": [
        "plt.figure(figsize=(10, 7))\n",
        "plt.scatter(df['TV'], df['sales'], label='TV')\n",
        "plt.scatter(df['radio'], df['sales'], label='radio')\n",
        "plt.scatter(df['newspaper'], df['sales'], label='newspaper')\n",
        "plt.legend()\n",
        "plt.show()"
      ],
      "execution_count": 6,
      "outputs": [
        {
          "output_type": "display_data",
          "data": {
            "image/png": "[encoded data removed]",
            "text/plain": [
              "<Figure size 720x504 with 1 Axes>"
            ]
          },
          "metadata": {
            "tags": [],
            "needs_background": "light"
          }
        }
      ]
    },
    {
      "cell_type": "markdown",
      "metadata": {
        "id": "ATK-QK4Xpb4y"
      },
      "source": [
        "## 2. Prediksi Penjualan Berdasarkan Biaya Media Iklan dengan Regresi Linear (19 poin)"
      ]
    },
    {
      "cell_type": "markdown",
      "metadata": {
        "id": "wXwXyjo_pb41"
      },
      "source": [
        "### Soal 2.1 (4 poin)\n",
        "\n",
        "Kita akan membuat simple linear regression dengan satu fitur. Dalam kasus ini, mari mencoba melihat hubungan antara `sales` dengan biaya untuk media iklan di `TV`.\n",
        "\n",
        "Ambil fitur dari kolom `TV` dan response dari kolom `sales`, kemudian buat sebuah model linear regression menggunakan pustaka scikit-learn dan latih model tersebut dengan data yang Anda miliki! Laporkan nilai bias dan koefisiennya. Lalu, jelaskan bagaimana intepretasi Anda terhadap koefisien dari model yang Anda miliki.\n",
        "\n",
        "*Petunjuk: Lihat cara penggunaan pustakanya di [sini](http://scikit-learn.org/stable/auto_examples/linear_model/plot_ols.html#sphx-glr-auto-examples-linear-model-plot-ols-py).*"
      ]
    },
    {
      "cell_type": "code",
      "metadata": {
        "id": "nd7Fa-jmpb44"
      },
      "source": [
        "X = df['TV'].values\n",
        "X = X.reshape(-1,1)\n",
        "y = df['sales'].values"
      ],
      "execution_count": 7,
      "outputs": []
    },
    {
      "cell_type": "code",
      "metadata": {
        "id": "zkWYhjAkA0uU"
      },
      "source": [
        "from sklearn.linear_model import LinearRegression\n",
        "lr = LinearRegression()\n",
        "lr.fit(X,y)\n",
        "pred = lr.predict(X)"
      ],
      "execution_count": 8,
      "outputs": []
    },
    {
      "cell_type": "code",
      "metadata": {
        "colab": {
          "base_uri": "https://localhost:8080/",
          "height": 445
        },
        "id": "lpYY16UIETXr",
        "outputId": "35ef3359-2ae3-4055-fbe7-8311ebf22fea"
      },
      "source": [
        "print('Slope: {} | Intercept: {}'.format(lr.coef_, lr.intercept_))\n",
        "\n",
        "plt.figure(figsize=(10, 7))\n",
        "plt.scatter(X, y)\n",
        "plt.plot(X, pred, color='black', linewidth=3)\n",
        "plt.show()"
      ],
      "execution_count": 9,
      "outputs": [
        {
          "output_type": "stream",
          "text": [
            "Slope: [0.04753664] | Intercept: 7.032593549127695\n"
          ],
          "name": "stdout"
        },
        {
          "output_type": "display_data",
          "data": {
            "image/png": "[encoded data removed]",
            "text/plain": [
              "<Figure size 720x504 with 1 Axes>"
            ]
          },
          "metadata": {
            "tags": [],
            "needs_background": "light"
          }
        }
      ]
    },
    {
      "cell_type": "markdown",
      "metadata": {
        "id": "O66MIkQTE7cb"
      },
      "source": [
        "Jawab:\n",
        "\n",
        "Pengaruh x iklan di TV terhadap penjualan adalah sebesar 0.0475. Sedangkan penjualan tanpa melakukan iklan di TV adalah 7.03"
      ]
    },
    {
      "cell_type": "markdown",
      "metadata": {
        "id": "4GsrSiBRpb5C"
      },
      "source": [
        "### Soal 2.2.a (3 poin)\n",
        "\n",
        "Mari kita lihat seberapa baik garis regresi yang dibuat dari model yang Anda miliki. Buatlah prediksi dari biaya `TV` yang paling minimum dan biaya `TV` yang paling maksimum! Gambarkan scatter plot dan garis regresi model Anda atas prediksi tersebut. Bagaimana garis tersebut mencocokkan data Anda?"
      ]
    },
    {
      "cell_type": "code",
      "metadata": {
        "id": "Nj9npxUrpb5E"
      },
      "source": [
        "pred_min = lr.predict(X.max().reshape(-1,1))\n",
        "pred_max = lr.predict(X.min().reshape(-1,1))"
      ],
      "execution_count": 10,
      "outputs": []
    },
    {
      "cell_type": "code",
      "metadata": {
        "colab": {
          "base_uri": "https://localhost:8080/",
          "height": 445
        },
        "id": "Bxg1sTE4xVkS",
        "outputId": "9fd908f9-5af7-47e6-ac28-0d66f6a546bb"
      },
      "source": [
        "plt.figure(figsize=(10, 7))\n",
        "plt.plot(X, pred, color='black', linewidth=3)\n",
        "plt.scatter(X, y)\n",
        "plt.scatter(X.max(), pred_max, label='Maximum TV advertising')\n",
        "plt.scatter(X.min(), pred_min, label='Miminimum TV advertising')\n",
        "plt.legend()"
      ],
      "execution_count": 11,
      "outputs": [
        {
          "output_type": "execute_result",
          "data": {
            "text/plain": [
              "<matplotlib.legend.Legend at 0x7f6330714ad0>"
            ]
          },
          "metadata": {
            "tags": []
          },
          "execution_count": 11
        },
        {
          "output_type": "display_data",
          "data": {
            "image/png": "[encoded data removed]",
            "text/plain": [
              "<Figure size 720x504 with 1 Axes>"
            ]
          },
          "metadata": {
            "tags": [],
            "needs_background": "light"
          }
        }
      ]
    },
    {
      "cell_type": "markdown",
      "metadata": {
        "id": "DMonw3U9yq_X"
      },
      "source": [
        "Jawab:\n",
        "\n",
        "Jika hanya menggunakan linear regression hasil prediksinya jauh dari nilai sebenarnya"
      ]
    },
    {
      "cell_type": "markdown",
      "metadata": {
        "id": "FtUX3X54pb5J"
      },
      "source": [
        "### Soal 2.2.b (3 poin)\n",
        "\n",
        "Coba lakukan kembali regresi pada data tersebut, tetapi kali ini gunakan fungsi basis polinomial orde 3. Gambarkan kembali scatter plot dan fungsi regresinya."
      ]
    },
    {
      "cell_type": "code",
      "metadata": {
        "id": "JouovpF4pb5L"
      },
      "source": [
        "from sklearn.pipeline import make_pipeline\n",
        "from sklearn.preprocessing import PolynomialFeatures\n",
        "\n",
        "poly_model = make_pipeline(PolynomialFeatures(3),\n",
        "                           LinearRegression())\n",
        "\n",
        "poly_model.fit(X,y)\n",
        "poly_pred = poly_model.predict(X)\n",
        "poly_pred_max = poly_model.predict(X.max().reshape(-1,1))\n",
        "poly_pred_min = poly_model.predict(X.min().reshape(-1,1))"
      ],
      "execution_count": 12,
      "outputs": []
    },
    {
      "cell_type": "code",
      "metadata": {
        "colab": {
          "base_uri": "https://localhost:8080/",
          "height": 445
        },
        "id": "PS6GD_p6zhCm",
        "outputId": "fdadd598-04fa-4fdb-b7fc-ebabb29280e3"
      },
      "source": [
        "plt.figure(figsize=(10, 7))\n",
        "plt.plot(np.linspace(0, X.max(), 200), poly_pred)\n",
        "plt.scatter(X, y)\n",
        "plt.scatter(X.max(), poly_pred_max, label='Maximum TV advertising')\n",
        "plt.scatter(X.min(), poly_pred_min, label='Miminimum TV advertising', color='red')\n",
        "plt.legend()"
      ],
      "execution_count": 13,
      "outputs": [
        {
          "output_type": "execute_result",
          "data": {
            "text/plain": [
              "<matplotlib.legend.Legend at 0x7f632e631210>"
            ]
          },
          "metadata": {
            "tags": []
          },
          "execution_count": 13
        },
        {
          "output_type": "display_data",
          "data": {
            "image/png": "[encoded data removed]",
            "text/plain": [
              "<Figure size 720x504 with 1 Axes>"
            ]
          },
          "metadata": {
            "tags": [],
            "needs_background": "light"
          }
        }
      ]
    },
    {
      "cell_type": "markdown",
      "metadata": {
        "id": "xAzrdYKPpb5R"
      },
      "source": [
        "### Soal 2.2.c (3 poin)\n",
        "\n",
        "Salah satu cara untuk memastikan bahwa model yang Anda hasilkan sudah cukup baik pada model regresi adalah dengan menghitung nilai *mean squared error* (MSE). Coba hitung nilai MSE untuk regresi dengan dan tanpa fungsi basis polinomial seperti yang Anda kerjakan pada bagian a dan b. Apa yang dapat Anda amati? Apakah nilainya sesuai dengan ekspektasi Anda?"
      ]
    },
    {
      "cell_type": "code",
      "metadata": {
        "colab": {
          "base_uri": "https://localhost:8080/"
        },
        "id": "xUvKJqnopb5T",
        "outputId": "cd45f4c6-89f9-484d-8df1-31460759f614"
      },
      "source": [
        "print(\"MSE linear regression: %.2f\" % mean_squared_error(y,pred))\n",
        "print(\"MSE linear regression (basis polynomial): %.2f\" % mean_squared_error(y,poly_pred))"
      ],
      "execution_count": 14,
      "outputs": [
        {
          "output_type": "stream",
          "text": [
            "MSE linear regression: 10.51\n",
            "MSE linear regression (basis polynomial): 10.24\n"
          ],
          "name": "stdout"
        }
      ]
    },
    {
      "cell_type": "markdown",
      "metadata": {
        "id": "crK875oSpb5Y"
      },
      "source": [
        "Jawab:\n",
        "\n",
        "Kesalahan prediksi dari linear regression yang tidak menggunakan basis polynomial lebih besar dengan yang menggunakan basis polynomial. Hal ini karena fungsin polynomial dapat menyeseuaikan data yang tidak linear."
      ]
    },
    {
      "cell_type": "markdown",
      "metadata": {
        "id": "IvxhYV68pb5b"
      },
      "source": [
        "### Soal 2.3.a (4 poin)\n",
        "\n",
        "Sekarang kita akan melakukan Multiple Linear Regression. Buatlah sebuah model dengan menggunakan Linear Regression dari scikit-learn untuk fitur `TV`, `radio`, dan `newspaper`. Variabel dependen yang digunakan adalah `sales`. Keluarkan pula nilai bias dan nilai koefisien ketiga fitur tersebut. Sebelum itu, bagi dataset menjadi data latih dan data uji dengan proporsi data uji sebanyak 20%."
      ]
    },
    {
      "cell_type": "code",
      "metadata": {
        "id": "dXsRbtGKpb5c"
      },
      "source": [
        "X = df[['TV', 'radio', 'newspaper']].values\n",
        "y = df['sales'].values"
      ],
      "execution_count": 15,
      "outputs": []
    },
    {
      "cell_type": "code",
      "metadata": {
        "id": "G9RgJh8X35mn"
      },
      "source": [
        "from sklearn.model_selection import train_test_split\n",
        "\n",
        "X_train, X_test, y_train, y_test = train_test_split(X,y,test_size=0.2)"
      ],
      "execution_count": 16,
      "outputs": []
    },
    {
      "cell_type": "code",
      "metadata": {
        "colab": {
          "base_uri": "https://localhost:8080/"
        },
        "id": "TQzpM-G94Kx7",
        "outputId": "9d5dcc0c-b050-48d1-d928-f7ec37a14ba8"
      },
      "source": [
        "lr1 = LinearRegression()\n",
        "lr1.fit(X_train, y_train)\n",
        "print('Slope: {} | Intercept: {}'.format(lr1.coef_, lr1.intercept_))"
      ],
      "execution_count": 17,
      "outputs": [
        {
          "output_type": "stream",
          "text": [
            "Slope: [ 0.04637974  0.18080161 -0.00164953] | Intercept: 3.111531536241248\n"
          ],
          "name": "stdout"
        }
      ]
    },
    {
      "cell_type": "code",
      "metadata": {
        "id": "h9pgzfnr4hi3"
      },
      "source": [
        "pred = lr1.predict(X_test)"
      ],
      "execution_count": 18,
      "outputs": []
    },
    {
      "cell_type": "markdown",
      "metadata": {
        "id": "Or2ndYkqpb5j"
      },
      "source": [
        "### Soal 2.3.b (2 poin)\n",
        "\n",
        "Lakukan evaluasi model *multiple linear regression* yang Anda miliki dari data uji dengan menggunakan *mean squared error*."
      ]
    },
    {
      "cell_type": "code",
      "metadata": {
        "colab": {
          "base_uri": "https://localhost:8080/"
        },
        "id": "WaYzU_L0pb5k",
        "outputId": "e697a083-d659-455a-d6a6-da5b73aa59ce"
      },
      "source": [
        "print(\"Mean squared error: %.2f\" % mean_squared_error(y_test, pred))"
      ],
      "execution_count": 19,
      "outputs": [
        {
          "output_type": "stream",
          "text": [
            "Mean squared error: 3.28\n"
          ],
          "name": "stdout"
        }
      ]
    },
    {
      "cell_type": "markdown",
      "metadata": {
        "id": "8eFclDFcpb5q"
      },
      "source": [
        "## 3. Eksplorasi Awal Data Food-101 (3 poin)"
      ]
    },
    {
      "cell_type": "markdown",
      "metadata": {
        "id": "Q0UKt30-pb5s"
      },
      "source": [
        "Pertama, kita akan memuat data menggunakan kode di bawah ini. `X` merupakan gambar yang telah diterjemahkan dalam bentuk *tensor* atau array multidimensi. Dimensi pertama menunjukkan jumlah datanya, dua dimensi berikutnya menunjukkan panjang dan lebar dari gambarnya, dan dimensi keempat merupakan *channels* (RGB). Di sisi lain, `y` adalah kelas dari masing-masing gambar yang diberikan dalam `X` sehingga `X.shape[0] == y.shape[0]`."
      ]
    },
    {
      "cell_type": "code",
      "metadata": {
        "id": "5up8FTokpb5t"
      },
      "source": [
        "def load_file(url):\n",
        "    filename = url.split('/')[-1]\n",
        "    with open(filename, 'wb') as f:\n",
        "        resp = requests.get(url)\n",
        "        f.write(resp.content)\n",
        "    return np.load(filename)"
      ],
      "execution_count": 20,
      "outputs": []
    },
    {
      "cell_type": "code",
      "metadata": {
        "colab": {
          "base_uri": "https://localhost:8080/"
        },
        "id": "p2Ug44VGpb52",
        "outputId": "045d8c86-4ab3-476d-ebb2-0dd03c85f72a"
      },
      "source": [
        "X = load_file('https://github.com/aliakbars/uai-ai/raw/master/datasets/food.npy')\n",
        "y = load_file('https://github.com/aliakbars/uai-ai/raw/master/datasets/food_labels.npy')\n",
        "\n",
        "X.shape"
      ],
      "execution_count": 21,
      "outputs": [
        {
          "output_type": "execute_result",
          "data": {
            "text/plain": [
              "(2001, 28, 28, 3)"
            ]
          },
          "metadata": {
            "tags": []
          },
          "execution_count": 21
        }
      ]
    },
    {
      "cell_type": "markdown",
      "metadata": {
        "id": "ZZFltLtfpb55"
      },
      "source": [
        "### Soal 3.1 (1 poin)\n",
        "\n",
        "Berapa banyak gambar sushi dan pizza masing-masing dalam dataset ini?"
      ]
    },
    {
      "cell_type": "code",
      "metadata": {
        "colab": {
          "base_uri": "https://localhost:8080/"
        },
        "id": "RF12samlpb56",
        "outputId": "65f3e6e6-7eb3-4650-89d4-fd5204b8604d"
      },
      "source": [
        "counts = np.unique(y, return_counts= True)\n",
        "print('Counts of {} : {}'.format(counts[0][0], counts[1][0]))\n",
        "print('Counts of {} : {}'.format(counts[0][1], counts[1][1]))"
      ],
      "execution_count": 22,
      "outputs": [
        {
          "output_type": "stream",
          "text": [
            "Counts of pizza : 1001\n",
            "Counts of sushi : 1000\n"
          ],
          "name": "stdout"
        }
      ]
    },
    {
      "cell_type": "markdown",
      "metadata": {
        "id": "DCoiS8LHpb59"
      },
      "source": [
        "### Soal 3.2 (2 poin)\n",
        "\n",
        "Gambarkan satu contoh pizza (indeks 0-1000) dan satu contoh sushi (indeks 1001-2000) dari dataset yang digunakan.\n",
        "\n",
        "*Petunjuk: Anda dapat menggunakan `plt.imshow()`*"
      ]
    },
    {
      "cell_type": "code",
      "metadata": {
        "colab": {
          "base_uri": "https://localhost:8080/",
          "height": 335
        },
        "id": "40OYdz0upb5-",
        "outputId": "75507762-a6c9-44c8-a9ff-f3af10adb097"
      },
      "source": [
        "fig, ax = plt.subplots(figsize=(10,5), ncols=2)\n",
        "ax[0].imshow(X[1000])\n",
        "ax[0].set_title('{}'.format(y[1000]))\n",
        "ax[1].imshow(X[2000])\n",
        "ax[1].set_title('{}'.format(y[2000]))"
      ],
      "execution_count": 23,
      "outputs": [
        {
          "output_type": "execute_result",
          "data": {
            "text/plain": [
              "Text(0.5, 1.0, 'sushi')"
            ]
          },
          "metadata": {
            "tags": []
          },
          "execution_count": 23
        },
        {
          "output_type": "display_data",
          "data": {
            "image/png": "[encoded data removed]",
            "text/plain": [
              "<Figure size 720x360 with 2 Axes>"
            ]
          },
          "metadata": {
            "tags": [],
            "needs_background": "light"
          }
        }
      ]
    },
    {
      "cell_type": "markdown",
      "metadata": {
        "id": "Ej2nmWS8pb6A"
      },
      "source": [
        "## 4. Klasifikasi Gambar Pizza dan Sushi Menggunakan Logistic Regression (12 poin)"
      ]
    },
    {
      "cell_type": "markdown",
      "metadata": {
        "id": "Dg_qBrkIpb6C"
      },
      "source": [
        "### Soal 4.1 (1 poin)\n",
        "\n",
        "Bagi dataset Anda menjadi 70-30 untuk training-test sets."
      ]
    },
    {
      "cell_type": "code",
      "metadata": {
        "id": "kTi_LxAIruVA"
      },
      "source": [
        "y = [0 if y =='pizza' else 1 for y in y]"
      ],
      "execution_count": 24,
      "outputs": []
    },
    {
      "cell_type": "code",
      "metadata": {
        "id": "pgscWB1tpb6E"
      },
      "source": [
        "X_train, X_test, y_train, y_test = train_test_split(X, y, test_size=0.30)"
      ],
      "execution_count": 25,
      "outputs": []
    },
    {
      "cell_type": "markdown",
      "metadata": {
        "id": "JNIKJ36qpb6G"
      },
      "source": [
        "### Soal 4.2.a (4 poin)\n",
        "\n",
        "Buat gambar yang berbentuk matriks pixel yang ada menjadi flat, lalu lakukan regresi logistik ke data yang telah Anda bagi tadi."
      ]
    },
    {
      "cell_type": "code",
      "metadata": {
        "colab": {
          "base_uri": "https://localhost:8080/",
          "height": 348
        },
        "id": "BYgJa4vGpb6I",
        "outputId": "7df53d92-e4e4-43ed-9978-00cf73f2eb0b"
      },
      "source": [
        "X_train = X_train.flatten()\n",
        "plt.hist(X_train)"
      ],
      "execution_count": 26,
      "outputs": [
        {
          "output_type": "execute_result",
          "data": {
            "text/plain": [
              "(array([516862., 395820., 378191., 349023., 356891., 333074., 319087.,\n",
              "        262563., 208357., 172932.]),\n",
              " array([  0. ,  25.5,  51. ,  76.5, 102. , 127.5, 153. , 178.5, 204. ,\n",
              "        229.5, 255. ]),\n",
              " <a list of 10 Patch objects>)"
            ]
          },
          "metadata": {
            "tags": []
          },
          "execution_count": 26
        },
        {
          "output_type": "display_data",
          "data": {
            "image/png": "[encoded data removed]",
            "text/plain": [
              "<Figure size 432x288 with 1 Axes>"
            ]
          },
          "metadata": {
            "tags": [],
            "needs_background": "light"
          }
        }
      ]
    },
    {
      "cell_type": "code",
      "metadata": {
        "colab": {
          "base_uri": "https://localhost:8080/"
        },
        "id": "BdzE2qcjnVEx",
        "outputId": "53d2d64c-2cf1-4df7-9f4e-2180573fab3d"
      },
      "source": [
        "logreg = LogisticRegression()\n",
        "logreg.fit(X_train.reshape(1400,-1),y_train)"
      ],
      "execution_count": 27,
      "outputs": [
        {
          "output_type": "stream",
          "text": [
            "/usr/local/lib/python3.7/dist-packages/sklearn/linear_model/_logistic.py:940: ConvergenceWarning: lbfgs failed to converge (status=1):\n",
            "STOP: TOTAL NO. of ITERATIONS REACHED LIMIT.\n",
            "\n",
            "Increase the number of iterations (max_iter) or scale the data as shown in:\n",
            "    https://scikit-learn.org/stable/modules/preprocessing.html\n",
            "Please also refer to the documentation for alternative solver options:\n",
            "    https://scikit-learn.org/stable/modules/linear_model.html#logistic-regression\n",
            "  extra_warning_msg=_LOGISTIC_SOLVER_CONVERGENCE_MSG)\n"
          ],
          "name": "stderr"
        },
        {
          "output_type": "execute_result",
          "data": {
            "text/plain": [
              "LogisticRegression(C=1.0, class_weight=None, dual=False, fit_intercept=True,\n",
              "                   intercept_scaling=1, l1_ratio=None, max_iter=100,\n",
              "                   multi_class='auto', n_jobs=None, penalty='l2',\n",
              "                   random_state=None, solver='lbfgs', tol=0.0001, verbose=0,\n",
              "                   warm_start=False)"
            ]
          },
          "metadata": {
            "tags": []
          },
          "execution_count": 27
        }
      ]
    },
    {
      "cell_type": "code",
      "metadata": {
        "id": "pN-dUqbcaFlj"
      },
      "source": [
        "pred = logreg.predict(X_test.flatten().reshape(-1,2352))"
      ],
      "execution_count": 28,
      "outputs": []
    },
    {
      "cell_type": "code",
      "metadata": {
        "colab": {
          "base_uri": "https://localhost:8080/"
        },
        "id": "Orky5ZR_aoDz",
        "outputId": "496a00a0-a73c-4c58-a54f-a7bafecf1f1a"
      },
      "source": [
        "mean_squared_error(y_test, pred)"
      ],
      "execution_count": 29,
      "outputs": [
        {
          "output_type": "execute_result",
          "data": {
            "text/plain": [
              "0.4059900166389351"
            ]
          },
          "metadata": {
            "tags": []
          },
          "execution_count": 29
        }
      ]
    },
    {
      "cell_type": "markdown",
      "metadata": {
        "id": "6VdEDZKvpb6K"
      },
      "source": [
        "### Soal 4.2.b (2 poin)\n",
        "\n",
        "Apa pendapat Anda tentang hasil klasifikasi tersebut? Apakah hasilnya sudah cukup baik?"
      ]
    },
    {
      "cell_type": "markdown",
      "metadata": {
        "id": "3ZbwPZlGpb6K"
      },
      "source": [
        "Hasilnya cukup baik karena nilai MSE dari model tersebut masih dibawah 1. Artinya kesalahan klasifikasinya cukup rendah."
      ]
    },
    {
      "cell_type": "markdown",
      "metadata": {
        "id": "Rwx-WWEQpb6L"
      },
      "source": [
        "### Soal 4.3 (5 poin)\n",
        "\n",
        "Apa kesimpulan Anda dari eksperimen sejauh ini? Apa yang dapat dilakukan untuk memperbaiki kinerja model regresi logistik?"
      ]
    },
    {
      "cell_type": "markdown",
      "metadata": {
        "id": "QJukqEvTpb6N"
      },
      "source": [
        "\n",
        "\n",
        "*   Parameter Tuning.\n",
        "*   Karna data yang digunakan sudah dilakukan normalisasi terhadap nilai pixelnya\n",
        "\n",
        "\n",
        "\n"
      ]
    },
    {
      "cell_type": "markdown",
      "metadata": {
        "id": "S-agPvYEpb6P"
      },
      "source": [
        "## 5. Bonus: Klasifikasi Gambar Pizza dan Sushi Menggunakan Deep Learning (5 poin)"
      ]
    },
    {
      "cell_type": "markdown",
      "metadata": {
        "id": "Ey4MrpVwpb6Q"
      },
      "source": [
        "Coba klasifikasikan data Food-101 untuk kedua jenis makanan diatas dengan menggunakan pustaka dari Keras untuk *deep learning* atau *neural networks*. Jangan lupa untuk melaporkan akurasi dan *confusion matrix*-nya. Adaptasi kode di atas dan lihat pula contoh kode di [sini](https://github.com/fchollet/keras/blob/master/examples/mnist_cnn.py). Coba buat Convolutional Neural Network dan jalankan kodenya. Kode *deep learning* Anda hanya dinilai jika berhasil berjalan.\n",
        "\n",
        "*Petunjuk: Anda mungkin perlu mengubah dimensi dari data latih dan data uji Anda menjadi $n \\times d \\times d \\times 1$ dengan 1 dimensi terakhir adalah channel hitam-putih. Nilainya bisa menjadi 3 jika kita menggunakan channel warna RGB.*\n",
        "\n",
        "*Anda mungkin perlu menggunakan representasi one-of-K untuk label yang digunakan. Anda dapat menggunakan `keras.utils.to_categorical` untuk melakukan hal ini. Silakan mencontoh kode untuk deep neural networks sederhana di [sini](https://github.com/fchollet/keras/blob/master/examples/mnist_mlp.py) atau dengan menggunakan convolutional neural networks di [sini](https://github.com/fchollet/keras/blob/master/examples/mnist_cnn.py).*"
      ]
    },
    {
      "cell_type": "code",
      "metadata": {
        "id": "cSPu3X_ExLbI"
      },
      "source": [
        "from __future__ import print_function\n",
        "import keras\n",
        "from keras.datasets import mnist\n",
        "from keras.models import Sequential\n",
        "from keras.layers import Dense, Dropout, Flatten\n",
        "from keras.preprocessing.image import ImageDataGenerator\n",
        "from keras.layers import Conv2D, MaxPooling2D, AveragePooling2D\n",
        "from keras import backend as K\n",
        "\n",
        "X = load_file('https://github.com/aliakbars/uai-ai/raw/master/datasets/food.npy')\n",
        "y = load_file('https://github.com/aliakbars/uai-ai/raw/master/datasets/food_labels.npy')"
      ],
      "execution_count": 30,
      "outputs": []
    },
    {
      "cell_type": "code",
      "metadata": {
        "id": "K1Rrvop5xMu6"
      },
      "source": [
        "y = [0 if y =='pizza' else 1 for y in y]\n",
        "\n",
        "X = np.array(X).reshape(X.shape[0], X.shape[1], X.shape[2], 3)\n",
        "y = np.array(y)\n",
        "\n",
        "X_train, X_test, y_train, y_test = train_test_split(X, y, test_size=0.30)"
      ],
      "execution_count": 31,
      "outputs": []
    },
    {
      "cell_type": "code",
      "metadata": {
        "id": "cEQ8kCTqxSLS"
      },
      "source": [
        "batch_size = 32\n",
        "epochs = 10"
      ],
      "execution_count": 32,
      "outputs": []
    },
    {
      "cell_type": "code",
      "metadata": {
        "id": "OXVtA9BTxY1d"
      },
      "source": [
        "X_train = X_train/255\n",
        "X_test = X_test/255"
      ],
      "execution_count": 33,
      "outputs": []
    },
    {
      "cell_type": "code",
      "metadata": {
        "id": "FUJEHZAvpb6R"
      },
      "source": [
        "model = Sequential()\n",
        "model.add(Conv2D(32, kernel_size=(3, 3),\n",
        "                 activation='relu'))\n",
        "model.add(MaxPooling2D(pool_size=(2, 2)))\n",
        "model.add(Conv2D(64, (3, 3), activation='relu'))\n",
        "model.add(AveragePooling2D(pool_size=(2,2)))\n",
        "model.add(Flatten())\n",
        "model.add(Dense(512, activation='relu'))\n",
        "model.add(Dropout(0.2))\n",
        "model.add(Dense(1, activation='sigmoid'))"
      ],
      "execution_count": 34,
      "outputs": []
    },
    {
      "cell_type": "code",
      "metadata": {
        "id": "aTrZ7QUdx1jl"
      },
      "source": [
        "model.compile(loss=keras.losses.categorical_crossentropy,\n",
        "              optimizer=keras.optimizers.Adam(),\n",
        "              metrics=['accuracy'])"
      ],
      "execution_count": 35,
      "outputs": []
    },
    {
      "cell_type": "code",
      "metadata": {
        "colab": {
          "base_uri": "https://localhost:8080/"
        },
        "id": "cgr5upq7x_fM",
        "outputId": "1da49e49-5e02-4ab5-c4f8-cb650c8d69b2"
      },
      "source": [
        "model.fit(X_train, y_train,\n",
        "          batch_size=batch_size,\n",
        "          epochs=epochs,\n",
        "          verbose=1,\n",
        "          validation_data=(X_test, y_test))\n",
        "\n",
        "score = model.evaluate(X_test, y_test, verbose=0)\n",
        "print('Test loss:', score[0])\n",
        "print('Test accuracy:', score[1])"
      ],
      "execution_count": 36,
      "outputs": [
        {
          "output_type": "stream",
          "text": [
            "Epoch 1/10\n",
            "44/44 [==============================] - 3s 50ms/step - loss: 0.0000e+00 - accuracy: 0.4942 - val_loss: 0.0000e+00 - val_accuracy: 0.5042\n",
            "Epoch 2/10\n",
            "44/44 [==============================] - 2s 40ms/step - loss: 0.0000e+00 - accuracy: 0.4908 - val_loss: 0.0000e+00 - val_accuracy: 0.5042\n",
            "Epoch 3/10\n",
            "44/44 [==============================] - 2s 39ms/step - loss: 0.0000e+00 - accuracy: 0.4876 - val_loss: 0.0000e+00 - val_accuracy: 0.5042\n",
            "Epoch 4/10\n",
            "44/44 [==============================] - 2s 39ms/step - loss: 0.0000e+00 - accuracy: 0.4975 - val_loss: 0.0000e+00 - val_accuracy: 0.5042\n",
            "Epoch 5/10\n",
            "44/44 [==============================] - 2s 39ms/step - loss: 0.0000e+00 - accuracy: 0.5213 - val_loss: 0.0000e+00 - val_accuracy: 0.5042\n",
            "Epoch 6/10\n",
            "44/44 [==============================] - 2s 39ms/step - loss: 0.0000e+00 - accuracy: 0.4917 - val_loss: 0.0000e+00 - val_accuracy: 0.5042\n",
            "Epoch 7/10\n",
            "44/44 [==============================] - 2s 39ms/step - loss: 0.0000e+00 - accuracy: 0.4997 - val_loss: 0.0000e+00 - val_accuracy: 0.5042\n",
            "Epoch 8/10\n",
            "44/44 [==============================] - 2s 40ms/step - loss: 0.0000e+00 - accuracy: 0.5172 - val_loss: 0.0000e+00 - val_accuracy: 0.5042\n",
            "Epoch 9/10\n",
            "44/44 [==============================] - 2s 40ms/step - loss: 0.0000e+00 - accuracy: 0.4854 - val_loss: 0.0000e+00 - val_accuracy: 0.5042\n",
            "Epoch 10/10\n",
            "44/44 [==============================] - 2s 38ms/step - loss: 0.0000e+00 - accuracy: 0.4739 - val_loss: 0.0000e+00 - val_accuracy: 0.5042\n",
            "Test loss: 0.0\n",
            "Test accuracy: 0.5041597485542297\n"
          ],
          "name": "stdout"
        }
      ]
    },
    {
      "cell_type": "code",
      "metadata": {
        "colab": {
          "base_uri": "https://localhost:8080/",
          "height": 332
        },
        "id": "EVqkJiQWJ6g4",
        "outputId": "eb1d1b96-1034-4ad6-eed4-b8dd3b905984"
      },
      "source": [
        "y_pred = model.predict_classes(X_test)\n",
        "cm = confusion_matrix(y_test,y_pred)\n",
        "\n",
        "ax = plt.axes()\n",
        "sns.heatmap(cm, square=True, annot=True, fmt='d', cbar=False)\n",
        "ax.set_ylabel('True Label')\n",
        "ax.set_xlabel('Predicted Label')\n",
        "plt.show()"
      ],
      "execution_count": 37,
      "outputs": [
        {
          "output_type": "stream",
          "text": [
            "/usr/local/lib/python3.7/dist-packages/tensorflow/python/keras/engine/sequential.py:450: UserWarning: `model.predict_classes()` is deprecated and will be removed after 2021-01-01. Please use instead:* `np.argmax(model.predict(x), axis=-1)`,   if your model does multi-class classification   (e.g. if it uses a `softmax` last-layer activation).* `(model.predict(x) > 0.5).astype(\"int32\")`,   if your model does binary classification   (e.g. if it uses a `sigmoid` last-layer activation).\n",
            "  warnings.warn('`model.predict_classes()` is deprecated and '\n"
          ],
          "name": "stderr"
        },
        {
          "output_type": "display_data",
          "data": {
            "image/png": "[encoded data removed]",
            "text/plain": [
              "<Figure size 432x288 with 1 Axes>"
            ]
          },
          "metadata": {
            "tags": [],
            "needs_background": "light"
          }
        }
      ]
    }
  ]
}