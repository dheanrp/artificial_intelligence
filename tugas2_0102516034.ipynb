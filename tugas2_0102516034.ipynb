{
  "nbformat": 4,
  "nbformat_minor": 0,
  "metadata": {
    "colab": {
      "name": "tugas2_0102516034.ipynb",
      "provenance": [],
      "collapsed_sections": []
    },
    "kernelspec": {
      "display_name": "Python 3",
      "language": "python",
      "name": "python3"
    },
    "language_info": {
      "codemirror_mode": {
        "name": "ipython",
        "version": 3
      },
      "file_extension": ".py",
      "mimetype": "text/x-python",
      "name": "python",
      "nbconvert_exporter": "python",
      "pygments_lexer": "ipython3",
      "version": "3.7.3"
    }
  },
  "cells": [
    {
      "cell_type": "markdown",
      "metadata": {
        "id": "1_tE5HAY2hXe"
      },
      "source": [
        "# Kecerdasan Buatan\n",
        "\n",
        "## Tugas 2: k-Nearest Neighbours & k-Means\n",
        "\n",
        "### Mekanisme\n",
        "\n",
        "Anda hanya diwajibkan untuk mengumpulkan file ini saja ke uploader yang disediakan di http://elearning2.uai.ac.id/. Ganti nama file ini saat pengumpulan menjadi tugas2_NIM.ipynb.\n",
        "\n",
        "**Keterlambatan**: Pengumpulan tugas yang melebihi tenggat yang telah ditentukan tidak akan diterima. Keterlambatan akan berakibat pada nilai nol untuk tugas ini.\n",
        "\n",
        "**Kolaborasi**: Anda diperbolehkan untuk berdiskusi dengan teman Anda, tetapi dilarang keras menyalin kode maupun tulisan dari teman Anda.\n",
        "\n",
        "### Petunjuk\n",
        "\n",
        "_Packages_ yang Anda akan gunakan dalam mengerjakan tugas ini antara lain:\n",
        "\n",
        "- matplotlib\n",
        "- numpy\n",
        "- pandas\n",
        "- pillow\n",
        "- scipy\n",
        "- seaborn\n",
        "\n",
        "Anda diperbolehkan (jika dirasa perlu) untuk mengimpor modul tambahan untuk tugas ini. Namun, seharusnya modul yang tersedia sudah cukup untuk memenuhi kebutuhan Anda. Untuk kode yang Anda ambil dari sumber lain, **cantumkan URL menuju referensi tersebut jika diambil dari internet**!\n",
        "\n",
        "Perhatikan poin untuk tiap soal! **Semakin kecil poinnya, berarti kode yang diperlukan untuk menjawab soal tersebut seharusnya semakin sedikit!**"
      ]
    },
    {
      "cell_type": "markdown",
      "metadata": {
        "id": "s-FZVXtF2hXh"
      },
      "source": [
        "**NIM:**\n",
        "\n",
        "**Nilai akhir: XX/50**"
      ]
    },
    {
      "cell_type": "markdown",
      "metadata": {
        "id": "KPWsHUdo2hXk"
      },
      "source": [
        "### Deskripsi Dataset\n",
        "\n",
        "Pada tugas kali ini, Anda akan melihat penggunaan algoritma yang berbasis pada jarak antarobjek. Anda diberikan dataset berupa gambar angka-angka yang ditulis tangan. Dataset ini adalah versi yang lebih sederhana dari MNIST yang sering digunakan. Ukuran tiap gambar angka dalam dataset ini dalah 8x8 pixels. Deskripsi lengkapnya dapat Anda lihat di [sini](http://archive.ics.uci.edu/ml/datasets/Optical+Recognition+of+Handwritten+Digits). Tugas Anda kali ini adalah menerapkan algoritma k-NN dan k-Means untuk melakukan prediksi dan pengelompokan 10 angka tersebut dan mengevaluasi hasilnya."
      ]
    },
    {
      "cell_type": "markdown",
      "metadata": {
        "id": "vwwLa6YT2hXl"
      },
      "source": [
        "### Mengimpor Modul dan Dataset"
      ]
    },
    {
      "cell_type": "code",
      "metadata": {
        "id": "RwVcREa02hXm"
      },
      "source": [
        "from __future__ import print_function, division # Gunakan print(...) dan bukan print ...\n",
        "import matplotlib.pyplot as plt\n",
        "import numpy as np\n",
        "import pandas as pd\n",
        "import seaborn as sns\n",
        "\n",
        "from sklearn.datasets import load_digits\n",
        "from sklearn.cluster import KMeans\n",
        "from sklearn.metrics import accuracy_score, confusion_matrix, mean_squared_error\n",
        "from sklearn.model_selection import cross_val_score, train_test_split\n",
        "from sklearn.neighbors import KNeighborsClassifier, KNeighborsRegressor\n",
        "\n",
        "%matplotlib inline\n",
        "\n",
        "RANDOM_STATE = 1337\n",
        "np.random.seed(RANDOM_STATE)"
      ],
      "execution_count": 1,
      "outputs": []
    },
    {
      "cell_type": "markdown",
      "metadata": {
        "id": "5hKr6VSX2hXr"
      },
      "source": [
        "## 1. Eksplorasi Awal Data (10 poin)\n",
        "\n",
        "Pada bagian ini, Anda diminta untuk mengeksplorasi data latih yang diberikan. Selalu gunakan data ini kecuali diberitahukan sebaliknya."
      ]
    },
    {
      "cell_type": "code",
      "metadata": {
        "id": "MhC8Se8S2hXs"
      },
      "source": [
        "X, y = load_digits(return_X_y=True)"
      ],
      "execution_count": 2,
      "outputs": []
    },
    {
      "cell_type": "markdown",
      "metadata": {
        "id": "7cUoi32d2hX0"
      },
      "source": [
        "### Soal 1.1.a (2 poin)\n",
        "\n",
        "Pisahkan dataset Anda menjadi `X_train`, `X_test`, `y_train`, dan `y_test` dengan `train_test_split()`. Pastikan bahwa data uji Anda terdiri dari 30% total data."
      ]
    },
    {
      "cell_type": "code",
      "metadata": {
        "id": "9iQpGlwu2hX2"
      },
      "source": [
        "X_train, X_test, y_train, y_test = train_test_split(X, y, test_size=0.30)"
      ],
      "execution_count": 3,
      "outputs": []
    },
    {
      "cell_type": "markdown",
      "metadata": {
        "id": "p6rVayCr2hX8"
      },
      "source": [
        "### Soal 1.1.b (2 poin)\n",
        "\n",
        "Tunjukkan jumlah objek untuk masing-masing kelas dari `y_train` dan `y_test` dalam *bar plot*."
      ]
    },
    {
      "cell_type": "code",
      "metadata": {
        "colab": {
          "base_uri": "https://localhost:8080/",
          "height": 458
        },
        "id": "jNRGdOdv2hX-",
        "outputId": "ba2c7a3c-3582-4bee-a84a-98bd049ae811"
      },
      "source": [
        "count_y = np.unique(y)\n",
        "counts_train = np.unique(y_train, return_counts= True)\n",
        "counts_test = np.unique(y_test, return_counts= True)\n",
        "\n",
        "fig, ax = plt.subplots(figsize=(10,7))\n",
        "ax.bar(count_y, counts_train[1], label='train')\n",
        "ax.bar(count_y, counts_test[1], label='test')\n",
        "ax.set_xlabel('Class')\n",
        "ax.set_ylabel('Count')\n",
        "plt.legend()"
      ],
      "execution_count": 4,
      "outputs": [
        {
          "output_type": "execute_result",
          "data": {
            "text/plain": [
              "<matplotlib.legend.Legend at 0x7feba1236310>"
            ]
          },
          "metadata": {
            "tags": []
          },
          "execution_count": 4
        },
        {
          "output_type": "display_data",
          "data": {
            "image/png": "[encoded data removed]",
            "text/plain": [
              "<Figure size 720x504 with 1 Axes>"
            ]
          },
          "metadata": {
            "tags": [],
            "needs_background": "light"
          }
        }
      ]
    },
    {
      "cell_type": "markdown",
      "metadata": {
        "id": "5H_ILMfo2hYK"
      },
      "source": [
        "### Soal 1.2 (3 poin)\n",
        "\n",
        "Gambarkan histogram dari pixel ke-0 (pojok kiri atas) dan ke-4. Perbedaan apa yang dapat Anda lihat? Mengapa hasilnya seperti itu?"
      ]
    },
    {
      "cell_type": "code",
      "metadata": {
        "colab": {
          "base_uri": "https://localhost:8080/",
          "height": 458
        },
        "id": "b-UXN_po2hYM",
        "outputId": "fef997b6-8c6d-4872-f62d-d16d6ebd3548"
      },
      "source": [
        "fig, ax = plt.subplots(figsize=(10,7))\n",
        "plt.hist(X[:,0],label='Pixel 0')\n",
        "plt.hist(X[:,4],label='Pixel 4')\n",
        "ax.set_xlabel('Grey level')\n",
        "ax.set_ylabel('Distribution')\n",
        "plt.legend()"
      ],
      "execution_count": 5,
      "outputs": [
        {
          "output_type": "execute_result",
          "data": {
            "text/plain": [
              "<matplotlib.legend.Legend at 0x7feba0d0db90>"
            ]
          },
          "metadata": {
            "tags": []
          },
          "execution_count": 5
        },
        {
          "output_type": "display_data",
          "data": {
            "image/png": "[encoded data removed]",
            "text/plain": [
              "<Figure size 720x504 with 1 Axes>"
            ]
          },
          "metadata": {
            "tags": [],
            "needs_background": "light"
          }
        }
      ]
    },
    {
      "cell_type": "markdown",
      "metadata": {
        "id": "0gsa7dh12hYS"
      },
      "source": [
        "Pixel ke 0 nilainya tidak variatif sebab hanya terdistribusi di satu grey level. Sedangkan pixel ke 4 lebih bervariatif.\n"
      ]
    },
    {
      "cell_type": "markdown",
      "metadata": {
        "id": "m-YKoLRk2hYT"
      },
      "source": [
        "### Soal 1.3 (3 poin)\n",
        "\n",
        "Ambil 10 sampel gambar dari `X_train`, lalu tampilkan gambarnya."
      ]
    },
    {
      "cell_type": "code",
      "metadata": {
        "colab": {
          "base_uri": "https://localhost:8080/",
          "height": 494
        },
        "id": "OOIBDgiA2hYV",
        "outputId": "6f90fbc5-abe4-4bcf-892f-c0d1c3cf062c"
      },
      "source": [
        "f, axes = plt.subplots(2, 5, figsize=(20,8))\n",
        "axes = axes.reshape(-1)\n",
        "for i, ax in zip (range(10), axes.flatten()):\n",
        "    ax.imshow(X_train[y_train == i][i].reshape(8, 8), cmap='gist_gray')\n",
        "    ax.set_title(i)\n",
        "plt.show()"
      ],
      "execution_count": 6,
      "outputs": [
        {
          "output_type": "display_data",
          "data": {
            "image/png": "[encoded data removed]",
            "text/plain": [
              "<Figure size 1440x576 with 10 Axes>"
            ]
          },
          "metadata": {
            "tags": [],
            "needs_background": "light"
          }
        }
      ]
    },
    {
      "cell_type": "markdown",
      "metadata": {
        "id": "Uzkk6luw2hYb"
      },
      "source": [
        "sumber : \n",
        "*   https://github.com/random-forests/tutorials/blob/master/ep7.ipynb"
      ]
    },
    {
      "cell_type": "markdown",
      "metadata": {
        "id": "qrl2QWzA2hYd"
      },
      "source": [
        "## 2. k-Nearest Neighbours (10 poin)\n",
        "\n",
        "Anda akan melakukan klasifikasi digit tersebut dengan menggunakan algoritma k-NN."
      ]
    },
    {
      "cell_type": "markdown",
      "metadata": {
        "id": "tSdYuOaW2hYf"
      },
      "source": [
        "### Soal 2.1.a (5 poin)\n",
        "\n",
        "Dengan k-Nearest Neighbours, klasifikasikan data latih dengan menggunakan *cross-validation* (`cross_val_score()`) dan $k \\in [1,10]$, lalu gambarkan *line plot* perubahan akurasi rata-ratanya! Jangan lupa untuk memberikan label pada sumbu-sumbunya!"
      ]
    },
    {
      "cell_type": "code",
      "metadata": {
        "colab": {
          "base_uri": "https://localhost:8080/",
          "height": 608
        },
        "id": "jObFncoj2hYi",
        "outputId": "67718fe9-0b75-4246-fc71-64e886f4aec8"
      },
      "source": [
        "acc = []\n",
        "for k in range(1,11):\n",
        "  knn = KNeighborsClassifier(n_neighbors=k)\n",
        "  scores = cross_val_score(knn, X_train, y_train, scoring = 'accuracy')\n",
        "  acc.append(scores.mean())\n",
        "  print ('Nilai akurasi ', k,'=', scores.mean())\n",
        "\n",
        "fig, ax = plt.subplots(figsize=(10,7))\n",
        "plt.plot(range(1,11), acc)\n",
        "plt.xticks(range(1,11))\n",
        "plt.xlabel('k')\n",
        "plt.ylabel('accuracy');"
      ],
      "execution_count": 7,
      "outputs": [
        {
          "output_type": "stream",
          "text": [
            "Nilai akurasi  1 = 0.9856763422500474\n",
            "Nilai akurasi  2 = 0.9816986024157339\n",
            "Nilai akurasi  3 = 0.9840827167520395\n",
            "Nilai akurasi  4 = 0.9793144880794283\n",
            "Nilai akurasi  5 = 0.9801049769177259\n",
            "Nilai akurasi  6 = 0.9801081388730791\n",
            "Nilai akurasi  7 = 0.9793113261240751\n",
            "Nilai akurasi  8 = 0.9753304243344084\n",
            "Nilai akurasi  9 = 0.9753272623790552\n",
            "Nilai akurasi  10 = 0.9721494972490989\n"
          ],
          "name": "stdout"
        },
        {
          "output_type": "display_data",
          "data": {
            "image/png": "[encoded data removed]",
            "text/plain": [
              "<Figure size 720x504 with 1 Axes>"
            ]
          },
          "metadata": {
            "tags": [],
            "needs_background": "light"
          }
        }
      ]
    },
    {
      "cell_type": "markdown",
      "metadata": {
        "id": "BeaZcvUoG44m"
      },
      "source": [
        "sumber : https://kevinzakka.github.io/2016/07/13/k-nearest-neighbor/"
      ]
    },
    {
      "cell_type": "markdown",
      "metadata": {
        "id": "JLnWQQzs2hYn"
      },
      "source": [
        "### Soal 2.1.b (2 poin)\n",
        "\n",
        "Dari plot tersebut, berapa nilai $k$ yang akan Anda pilih? Mengapa?"
      ]
    },
    {
      "cell_type": "markdown",
      "metadata": {
        "id": "sm-0tAps2hYp"
      },
      "source": [
        "Niali k yang akan dipilih adalah 3 sebab akurasinya paling tinggi dibandingkan yang lain, jika memilih k = 1 maka setiap data merupakan satu kelas tersendiri dan dapat menimbulkan overfitting"
      ]
    },
    {
      "cell_type": "markdown",
      "metadata": {
        "id": "zM2yA9wK2hYs"
      },
      "source": [
        "### Soal 2.1.c (3 poin)\n",
        "\n",
        "Dari nilai $k$ yang Anda pilih, buatlah *heatmap* dari *confusion matrix* yang diperoleh dari klasifikasi data ujinya! Jangan lupa untuk memberikan label untuk masing-masing sumbunya dan menganotasi tiap kotak pada *heatmap*. Sertakan juga nilai akurasinya."
      ]
    },
    {
      "cell_type": "code",
      "metadata": {
        "colab": {
          "base_uri": "https://localhost:8080/",
          "height": 492
        },
        "id": "0dawHgLv2hYu",
        "outputId": "01e6cbf1-6af9-452c-e207-507431a37c2e"
      },
      "source": [
        "knn = KNeighborsClassifier(n_neighbors=3)\n",
        "knn.fit(X_train, y_train)\n",
        "y_pred = knn.predict(X_test)\n",
        "\n",
        "mat = confusion_matrix(y_test, y_pred)\n",
        "accuracy = accuracy_score(y_test, y_pred)\n",
        "print('Accuracy: ', accuracy)\n",
        "\n",
        "fig, ax = plt.subplots(figsize=(10,7))\n",
        "sns.heatmap(mat.T, square=True, annot=True, fmt='d', cbar=False)\n",
        "ax.set_title('Confusion Matrix')\n",
        "plt.xlabel('predicted label')\n",
        "plt.ylabel('true label')"
      ],
      "execution_count": 8,
      "outputs": [
        {
          "output_type": "stream",
          "text": [
            "Accuracy:  0.9888888888888889\n"
          ],
          "name": "stdout"
        },
        {
          "output_type": "execute_result",
          "data": {
            "text/plain": [
              "Text(157.74, 0.5, 'true label')"
            ]
          },
          "metadata": {
            "tags": []
          },
          "execution_count": 8
        },
        {
          "output_type": "display_data",
          "data": {
            "image/png": "[encoded data removed]",
            "text/plain": [
              "<Figure size 720x504 with 1 Axes>"
            ]
          },
          "metadata": {
            "tags": [],
            "needs_background": "light"
          }
        }
      ]
    },
    {
      "cell_type": "markdown",
      "metadata": {
        "id": "HOV7FRsMv_ih"
      },
      "source": [
        "sumber : http://scikit-learn.org/stable/auto_examples/model_selection/plot_confusion_matrix.html#sphx-glr-auto-examples-model-selection-plot-confusion-matrix-py"
      ]
    },
    {
      "cell_type": "markdown",
      "metadata": {
        "id": "ie5UHAwO2hY9"
      },
      "source": [
        "### Soal 2.2 (2 poin)\n",
        "\n",
        "Mengapa k-NN disebut sebagai algoritma klasifikasi non-parametrik? Apa yang membedakannya dengan algoritma klasifikasi parametrik?"
      ]
    },
    {
      "cell_type": "markdown",
      "metadata": {
        "id": "2RxY-a1h2hY_"
      },
      "source": [
        "Karena dengan menggunakan kNN data yang digunakan tidak perlu diketahui bentuk distribusinya. Sedangkan untuk algoritma klasifikasi parametrik perlu diketahui jenis distribusi data yang akan diolah."
      ]
    },
    {
      "cell_type": "markdown",
      "metadata": {
        "id": "GxREU6hz2hZD"
      },
      "source": [
        "## 3. k-NN Regression (10 poin)\n",
        "\n",
        "Terkadang, gambar yang kita miliki mengalami kerusakan. Salah satu cara untuk memperbaikinya adalah dengan memprediksi pixel yang rusak tersebut dengan pixels yang kita miliki. Untuk memahami kasus ini lebih baik, Anda dapat melihat contohnya di [sini](http://scikit-learn.org/stable/auto_examples/plot_multioutput_face_completion.html)."
      ]
    },
    {
      "cell_type": "markdown",
      "metadata": {
        "id": "JlzxtiLW2hZG"
      },
      "source": [
        "### Soal 3.1 (2 poin)\n",
        "\n",
        "Anggap saja pixel ke-42 mengalami kerusakan sehingga akan Anda prediksi. Oleh karena itu, Anda akan mencoba melakukan regresi dengan mengambil pixel di kiri dan di atas dari pixel ke-42, i.e. pixel ke-41 dan ke-34. Buatlah data latih dan data uji baru dengan menggunakan ide ini."
      ]
    },
    {
      "cell_type": "code",
      "metadata": {
        "id": "8L3bza-iP0Ko"
      },
      "source": [
        "train = X_train\n",
        "test = X_test"
      ],
      "execution_count": 9,
      "outputs": []
    },
    {
      "cell_type": "code",
      "metadata": {
        "id": "eRwEkyXvdt75"
      },
      "source": [
        "sample = []\n",
        "for atas, kiri in zip(train[:,34], train[:,41]):\n",
        "  sample.append([atas, kiri])\n",
        "\n",
        "Xtrain = sample\n",
        "\n",
        "sample = []\n",
        "for atas, kiri in zip(test[:,34], test[:,41]):\n",
        "  sample.append([atas, kiri])\n",
        "\n",
        "Xtest = sample"
      ],
      "execution_count": 10,
      "outputs": []
    },
    {
      "cell_type": "code",
      "metadata": {
        "id": "dIlZtbZRgRY8"
      },
      "source": [
        "ytrain = train[:,42]\n",
        "ytest = test[:,42]"
      ],
      "execution_count": 11,
      "outputs": []
    },
    {
      "cell_type": "code",
      "metadata": {
        "id": "vfzI6JkLgoor"
      },
      "source": [
        "knn_r = KNeighborsRegressor()\n",
        "knn_r.fit(Xtrain, ytrain)\n",
        "pred = knn_r.predict(Xtest)"
      ],
      "execution_count": 12,
      "outputs": []
    },
    {
      "cell_type": "code",
      "metadata": {
        "id": "U9zkxEqWvOkk"
      },
      "source": [
        "new_images = []\n",
        "for img in test:\n",
        "  new_images.append(img)\n",
        "\n",
        "new_images = np.array(new_images)"
      ],
      "execution_count": 17,
      "outputs": []
    },
    {
      "cell_type": "code",
      "metadata": {
        "id": "Wd838ZjDh_Y3"
      },
      "source": [
        "for i in range(len(new_images)):\n",
        "  new_images[i][42] = pred[i]"
      ],
      "execution_count": 22,
      "outputs": []
    },
    {
      "cell_type": "code",
      "metadata": {
        "colab": {
          "base_uri": "https://localhost:8080/",
          "height": 302
        },
        "id": "WOxUaO2tg1gf",
        "outputId": "55ef6bbd-b739-40d4-f93f-e3a1d10b934f"
      },
      "source": [
        "fig, ax = plt.subplots(ncols= 2, figsize=(10,7))\n",
        "ax[0].axis(\"off\")\n",
        "ax[1].axis(\"off\")\n",
        "ax[0].imshow(test[5].reshape(8,8),cmap=plt.cm.gray, interpolation=\"nearest\")\n",
        "ax[1].imshow(new_images[5].reshape(8,8),cmap=plt.cm.gray, interpolation=\"nearest\")"
      ],
      "execution_count": 23,
      "outputs": [
        {
          "output_type": "execute_result",
          "data": {
            "text/plain": [
              "<matplotlib.image.AxesImage at 0x7feb940d5450>"
            ]
          },
          "metadata": {
            "tags": []
          },
          "execution_count": 23
        },
        {
          "output_type": "display_data",
          "data": {
            "image/png": "[encoded data removed]",
            "text/plain": [
              "<Figure size 720x504 with 2 Axes>"
            ]
          },
          "metadata": {
            "tags": [],
            "needs_background": "light"
          }
        }
      ]
    },
    {
      "cell_type": "markdown",
      "metadata": {
        "id": "XSzOe6ZW2hZO"
      },
      "source": [
        "### Soal 3.2 (5 poin)\n",
        "\n",
        "Lakukan *cross-validation* pada data latih untuk regresi dengan k-NN guna memprediksi nilai pixel ke-42 untuk $k \\in [1,10]$ lalu laporkan RMSE-nya dalam bentuk *line plot*. Apa yang dapat Anda amati?"
      ]
    },
    {
      "cell_type": "code",
      "metadata": {
        "colab": {
          "base_uri": "https://localhost:8080/",
          "height": 778
        },
        "id": "vVeOumFfN81A",
        "outputId": "69d9462e-c907-40dc-b6ba-843f1fef5e6c"
      },
      "source": [
        "rmse = []\n",
        "for k in range(1,11):\n",
        "    knn_r = KNeighborsRegressor(n_neighbors=k)\n",
        "    knn_r.fit(Xtrain, ytrain)\n",
        "    score = cross_val_score(knn_r, Xtest, ytest, scoring='neg_mean_squared_error')\n",
        "    rmse.append(score.mean())\n",
        "    print ('Nilai rmse ', k,'=', score.mean())\n",
        "\n",
        "fig, ax = plt.subplots(figsize=(10,7))\n",
        "plt.plot(range(1,11), rmse)\n",
        "plt.xticks(range(1,11))"
      ],
      "execution_count": null,
      "outputs": [
        {
          "output_type": "stream",
          "text": [
            "Nilai rmse  1 = -0.9881481481481481\n",
            "Nilai rmse  2 = -1.0308148148148149\n",
            "Nilai rmse  3 = -1.1943868312757202\n",
            "Nilai rmse  4 = -1.377263888888889\n",
            "Nilai rmse  5 = -1.4507614814814815\n",
            "Nilai rmse  6 = -1.5342366255144033\n",
            "Nilai rmse  7 = -1.6678367346938778\n",
            "Nilai rmse  8 = -1.834486111111111\n",
            "Nilai rmse  9 = -2.046431641518061\n",
            "Nilai rmse  10 = -2.309344444444444\n"
          ],
          "name": "stdout"
        },
        {
          "output_type": "execute_result",
          "data": {
            "text/plain": [
              "([<matplotlib.axis.XTick at 0x7f6ebf35c310>,\n",
              "  <matplotlib.axis.XTick at 0x7f6ebf35ce50>,\n",
              "  <matplotlib.axis.XTick at 0x7f6ebf3f3790>,\n",
              "  <matplotlib.axis.XTick at 0x7f6ebf316590>,\n",
              "  <matplotlib.axis.XTick at 0x7f6ebf316490>,\n",
              "  <matplotlib.axis.XTick at 0x7f6ebf316d50>,\n",
              "  <matplotlib.axis.XTick at 0x7f6ebf31d5d0>,\n",
              "  <matplotlib.axis.XTick at 0x7f6ebf31d510>,\n",
              "  <matplotlib.axis.XTick at 0x7f6ebf31dd90>,\n",
              "  <matplotlib.axis.XTick at 0x7f6ebf3225d0>],\n",
              " <a list of 10 Text major ticklabel objects>)"
            ]
          },
          "metadata": {
            "tags": []
          },
          "execution_count": 46
        },
        {
          "output_type": "display_data",
          "data": {
            "image/png": "[encoded data removed]",
            "text/plain": [
              "<Figure size 720x504 with 1 Axes>"
            ]
          },
          "metadata": {
            "tags": [],
            "needs_background": "light"
          }
        }
      ]
    },
    {
      "cell_type": "markdown",
      "metadata": {
        "id": "GIXwiWSU2hZY"
      },
      "source": [
        "Semakin banyak jumlah kelasnya, akan semakin besar errornya"
      ]
    },
    {
      "cell_type": "markdown",
      "metadata": {
        "id": "YH6YsrX12hZa"
      },
      "source": [
        "### Soal 3.3 (3 poin)\n",
        "\n",
        "Pilih dua nilai $k$ terbaik. Lalu coba lakukan regresi pada data uji yang telah dibuat. Apa pendapat Anda terhadap hasil yang Anda dapatkan ini?"
      ]
    },
    {
      "cell_type": "code",
      "metadata": {
        "id": "LwJ4xOtywnh4"
      },
      "source": [
        "knn_r = KNeighborsRegressor(n_neighbors=2)\n",
        "knn_r.fit(Xtrain, ytrain)\n",
        "pred = knn_r.predict(Xtest)"
      ],
      "execution_count": 24,
      "outputs": []
    },
    {
      "cell_type": "code",
      "metadata": {
        "id": "M4OuEbcYwnh6"
      },
      "source": [
        "new_images = []\n",
        "for img in test:\n",
        "  new_images.append(img)\n",
        "\n",
        "new_images = np.array(new_images)"
      ],
      "execution_count": 25,
      "outputs": []
    },
    {
      "cell_type": "code",
      "metadata": {
        "id": "eg_q-X_fwnh7"
      },
      "source": [
        "for i in range(len(new_images)):\n",
        "  new_images[i][42] = pred[i]"
      ],
      "execution_count": 26,
      "outputs": []
    },
    {
      "cell_type": "code",
      "metadata": {
        "colab": {
          "base_uri": "https://localhost:8080/",
          "height": 302
        },
        "id": "G9uaI8oMwnh7",
        "outputId": "544018ae-107f-4bda-ce4b-c15a51f472b2"
      },
      "source": [
        "fig, ax = plt.subplots(ncols= 2, figsize=(10,7))\n",
        "ax[0].axis(\"off\")\n",
        "ax[1].axis(\"off\")\n",
        "ax[0].imshow(test[5].reshape(8,8),cmap=plt.cm.gray, interpolation=\"nearest\")\n",
        "ax[1].imshow(new_images[5].reshape(8,8),cmap=plt.cm.gray, interpolation=\"nearest\")"
      ],
      "execution_count": 27,
      "outputs": [
        {
          "output_type": "execute_result",
          "data": {
            "text/plain": [
              "<matplotlib.image.AxesImage at 0x7feb9401da90>"
            ]
          },
          "metadata": {
            "tags": []
          },
          "execution_count": 27
        },
        {
          "output_type": "display_data",
          "data": {
            "image/png": "[encoded data removed]",
            "text/plain": [
              "<Figure size 720x504 with 2 Axes>"
            ]
          },
          "metadata": {
            "tags": [],
            "needs_background": "light"
          }
        }
      ]
    },
    {
      "cell_type": "markdown",
      "metadata": {
        "id": "4dI0Cd8U2hZg"
      },
      "source": [
        "*Jawaban Anda di sini*"
      ]
    },
    {
      "cell_type": "markdown",
      "metadata": {
        "id": "92Ba-2Qz2hZi"
      },
      "source": [
        "## 4. k-Means (20 poin)"
      ]
    },
    {
      "cell_type": "markdown",
      "metadata": {
        "id": "62ORnQVa2hZj"
      },
      "source": [
        "### Soal 4.1.a (2 poin)\n",
        "\n",
        "Gunakan `KMeans` untuk melakukan *clustering* dengan $k=10$."
      ]
    },
    {
      "cell_type": "code",
      "metadata": {
        "id": "zx6hAD8m2hZk"
      },
      "source": [
        "kmeans = KMeans(init='k-means++', n_clusters=10)\n",
        "kmeans.fit(X, y)\n",
        "pred = kmeans.predict(X)"
      ],
      "execution_count": 32,
      "outputs": []
    },
    {
      "cell_type": "markdown",
      "metadata": {
        "id": "ejDs_-U82hZr"
      },
      "source": [
        "### Soal 4.1.b (4 poin)\n",
        "\n",
        "Dari hasil *clustering* yang telah Anda lakukan, coba gambarkan *centroids*-nya dari atribut `cluster_centers_` yang dihasilkan dari objek `KMeans` menggunakan `imshow()`. Ubah ukuran dimensi tiap *centroid* menjadi 8x8. Apa yang dapat Anda amati?"
      ]
    },
    {
      "cell_type": "code",
      "metadata": {
        "colab": {
          "base_uri": "https://localhost:8080/",
          "height": 249
        },
        "id": "4mfLifgAwHur",
        "outputId": "5e387a46-7dbf-42ff-9b22-2ccceb4fd8f4"
      },
      "source": [
        "f, ax = plt.subplots(2, 5, figsize=(10, 4))\n",
        "centers = kmeans.cluster_centers_.reshape(10, 8, 8)\n",
        "for ax, center in zip(ax.flat, centers):\n",
        "    ax.set(xticks=[], yticks=[])\n",
        "    ax.imshow(center, interpolation='nearest', cmap=plt.cm.binary)"
      ],
      "execution_count": 36,
      "outputs": [
        {
          "output_type": "display_data",
          "data": {
            "image/png": "[encoded data removed]",
            "text/plain": [
              "<Figure size 720x288 with 10 Axes>"
            ]
          },
          "metadata": {
            "tags": []
          }
        }
      ]
    },
    {
      "cell_type": "markdown",
      "metadata": {
        "id": "iE1zZE2s2hZz"
      },
      "source": [
        "**Jawab:**\n",
        "\n",
        "Setiap titik pusat kluster merupakan angka yang berbeda, artinya model kmeans sudah dapat membedakan antara satu angka dengan angka lainnya."
      ]
    },
    {
      "cell_type": "markdown",
      "metadata": {
        "id": "PwikQh7FVYyQ"
      },
      "source": [
        "sumber : \n",
        "\n",
        "*   https://github.com/jakevdp/PythonDataScienceHandbook/blob/master/notebooks/05.11-K-Means.ipynb\n",
        "\n"
      ]
    },
    {
      "cell_type": "markdown",
      "metadata": {
        "id": "Y6LDI-m_2hZ1"
      },
      "source": [
        "### Soal 4.2 (4 poin)\n",
        "\n",
        "Lakukan kembali *clustering* dengan `KMeans`, tapi kali ini gunakan nilai $k \\in [5,15]$. Laporkan nilai inertia dari proses *clustering* dalam *scree plot*. Mengapa *scree plot*-nya seperti itu?"
      ]
    },
    {
      "cell_type": "code",
      "metadata": {
        "colab": {
          "base_uri": "https://localhost:8080/",
          "height": 637
        },
        "id": "zqexPpyQ2hZ3",
        "outputId": "822ee99b-3789-46f6-dcd2-7f3fef7ecee9"
      },
      "source": [
        "dis = []\n",
        "for i in range(5,16):\n",
        "  kmeans = KMeans(n_clusters=i)\n",
        "  kmeans.fit(X)\n",
        "  dis.append(kmeans.inertia_)\n",
        "  print('Nilai inersia ', i,'=', kmeans.inertia_)\n",
        "\n",
        "f, ax = plt.subplots(figsize=(10, 7))\n",
        "plt.plot(range(5,16), dis, 'o-')\n",
        "plt.xticks(range(5,16))\n",
        "plt.xlabel('n clusters')\n",
        "plt.ylabel('aggregate distances')\n",
        "plt.show()"
      ],
      "execution_count": 41,
      "outputs": [
        {
          "output_type": "stream",
          "text": [
            "Nilai inersia  5 = 1498982.9278431516\n",
            "Nilai inersia  6 = 1404961.0163420653\n",
            "Nilai inersia  7 = 1334769.7632234555\n",
            "Nilai inersia  8 = 1264971.1246971749\n",
            "Nilai inersia  9 = 1202331.5123839853\n",
            "Nilai inersia  10 = 1165109.4601956704\n",
            "Nilai inersia  11 = 1132858.718426911\n",
            "Nilai inersia  12 = 1099077.9963981167\n",
            "Nilai inersia  13 = 1070435.250763277\n",
            "Nilai inersia  14 = 1043916.9971232263\n",
            "Nilai inersia  15 = 1019068.2418406616\n"
          ],
          "name": "stdout"
        },
        {
          "output_type": "display_data",
          "data": {
            "image/png": "[encoded data removed]",
            "text/plain": [
              "<Figure size 720x504 with 1 Axes>"
            ]
          },
          "metadata": {
            "tags": [],
            "needs_background": "light"
          }
        }
      ]
    },
    {
      "cell_type": "markdown",
      "metadata": {
        "id": "iA-EKgUAzzia"
      },
      "source": [
        "Jawab:\n",
        "\n",
        "Scree plot tersebut menggambarkan nilai kedekatan anatara titik pusat dengan data pada klaster tersebut. Semakin besar nilai k nya semakin kecil jarak antar datanya."
      ]
    },
    {
      "cell_type": "markdown",
      "metadata": {
        "id": "EZLcIuGO2hZ9"
      },
      "source": [
        "### Soal 4.3.a (4 poin)\n",
        "\n",
        "Coba lakukan klasifikasi dengan memanfaatkan algoritma k-Means. Perhatikan bahwa saat akan membandingkan label, Anda harus melakukan *class assignment* untuk tiap klaster secara *greedy*. Laporkan akurasi yang dihasilkan dengan metode ini."
      ]
    },
    {
      "cell_type": "code",
      "metadata": {
        "id": "vI1UMgFy2hZ_"
      },
      "source": [
        "kmeans = KMeans(n_clusters=9)\n",
        "pred = kmeans.fit_predict(X)\n",
        "\n",
        "labels = np.zeros_like(clusters)\n",
        "for i in range(9):\n",
        "  mask = (clusters == i)\n",
        "  labels[mask] = y[mask][0]"
      ],
      "execution_count": 55,
      "outputs": []
    },
    {
      "cell_type": "code",
      "metadata": {
        "colab": {
          "base_uri": "https://localhost:8080/"
        },
        "id": "NNoW-hIM1UHS",
        "outputId": "a62e60ae-38a0-4758-adc4-154e83fbae97"
      },
      "source": [
        "accuracy_score(y, labels)"
      ],
      "execution_count": 56,
      "outputs": [
        {
          "output_type": "execute_result",
          "data": {
            "text/plain": [
              "0.4774624373956594"
            ]
          },
          "metadata": {
            "tags": []
          },
          "execution_count": 56
        }
      ]
    },
    {
      "cell_type": "markdown",
      "metadata": {
        "id": "XEpBhsGj2haD"
      },
      "source": [
        "### Soal 4.3.b (2 poin)\n",
        "\n",
        "Gambarkan *heatmap* dari *confusion matrix* yang dihasilkan dari klasifikasi di atas. Jangan lupa untuk memberikan label yang sesuai untuk tiap sumbunya."
      ]
    },
    {
      "cell_type": "code",
      "metadata": {
        "colab": {
          "base_uri": "https://localhost:8080/",
          "height": 442
        },
        "id": "g71yeypA2haF",
        "outputId": "304a29e5-8b70-44e1-882b-a0ea454bf3bc"
      },
      "source": [
        "f, ax = plt.subplots(figsize=(10, 7))\n",
        "mat = confusion_matrix(y, labels)\n",
        "sns.heatmap(mat.T, square=True, annot=True, fmt='d', cbar=False)\n",
        "plt.xlabel('predicted label')\n",
        "plt.ylabel('true label');"
      ],
      "execution_count": 53,
      "outputs": [
        {
          "output_type": "display_data",
          "data": {
            "image/png": "[encoded data removed]",
            "text/plain": [
              "<Figure size 720x504 with 1 Axes>"
            ]
          },
          "metadata": {
            "tags": [],
            "needs_background": "light"
          }
        }
      ]
    },
    {
      "cell_type": "markdown",
      "metadata": {
        "id": "z9JocucW2haK"
      },
      "source": [
        "### Soal 4.4 (4 poin)\n",
        "\n",
        "Berikan kesimpulan dari eksplorasi yang telah Anda lakukan dalam keseluruhan tugas ini."
      ]
    },
    {
      "cell_type": "markdown",
      "metadata": {
        "id": "wtzV5HoH2haL"
      },
      "source": [
        "Kesimpulan\n",
        "\n",
        "1. Atribut dari sebuah gambar adalah pixelnya.\n",
        "2. Sebuah pixell bertetangga dengan pixel lainnya\n",
        "3. k-NN dan k-Means keduanya sama sama melakukan pengelompokan terhadap data dengan menggunakan jarak terdekat antara data dengan titik pusat\n",
        "4. k-NN membutuhkan label dan k-Means tidak\n",
        "\n",
        "\n",
        "\n"
      ]
    }
  ]
}